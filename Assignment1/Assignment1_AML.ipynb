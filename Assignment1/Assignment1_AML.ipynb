{
  "nbformat": 4,
  "nbformat_minor": 0,
  "metadata": {
    "colab": {
      "name": "Assignment1_AML.ipynb",
      "provenance": [],
      "collapsed_sections": []
    },
    "kernelspec": {
      "name": "python3",
      "display_name": "Python 3"
    },
    "language_info": {
      "name": "python"
    }
  },
  "cells": [
    {
      "cell_type": "code",
      "execution_count": 42,
      "metadata": {
        "id": "hAI45p7iIzRx"
      },
      "outputs": [],
      "source": [
        "import numpy as np\n",
        "import keras\n",
        "import matplotlib \n",
        "import matplotlib.pyplot as plt\n",
        "from keras import models\n",
        "from keras import layers"
      ]
    },
    {
      "cell_type": "markdown",
      "source": [
        "Loading data from imdb dataset"
      ],
      "metadata": {
        "id": "zLSt1amL5oyF"
      }
    },
    {
      "cell_type": "code",
      "source": [
        "from keras.datasets import imdb\n",
        "\n",
        "(train_data, train_labels), (test_data, test_labels) = imdb.load_data(num_words=10000)"
      ],
      "metadata": {
        "id": "8pr7BCuYAykJ"
      },
      "execution_count": 43,
      "outputs": []
    },
    {
      "cell_type": "markdown",
      "source": [
        "Data Preparation"
      ],
      "metadata": {
        "id": "kh2CjZPlCS0_"
      }
    },
    {
      "cell_type": "code",
      "source": [
        "#import numpy as np\n",
        "\n",
        "def vectorize_sequences(sequences, dimension=10000):\n",
        "    # Create an all-zero matrix of shape (len(sequences), dimension)\n",
        "    results = np.zeros((len(sequences), dimension))\n",
        "    for i, sequence in enumerate(sequences):\n",
        "        results[i, sequence] = 1.  # set specific indices of results[i] to 1s\n",
        "    return results\n",
        "\n",
        "# Our vectorized training data\n",
        "x_train = vectorize_sequences(train_data)\n",
        "# Our vectorized test data\n",
        "x_test = vectorize_sequences(test_data)\n",
        "\n",
        "#Encoding the labels\n",
        "# Our vectorized labels\n",
        "y_train = np.asarray(train_labels).astype('float32')\n",
        "y_test = np.asarray(test_labels).astype('float32')\n",
        "\n"
      ],
      "metadata": {
        "id": "uz_6uIiLCY8a"
      },
      "execution_count": 44,
      "outputs": []
    },
    {
      "cell_type": "code",
      "source": [
        "#Setting aside a validation set\n",
        "\n",
        "x_val = x_train[:10000]\n",
        "\n",
        "print(x_train.ndim)\n",
        "partial_x_train = x_train[10000:]\n",
        "y_val = y_train[:10000]\n",
        "partial_y_train = y_train[10000:]"
      ],
      "metadata": {
        "id": "FfGxTgkAH_rK",
        "colab": {
          "base_uri": "https://localhost:8080/",
          "height": 0
        },
        "outputId": "9a7ddd14-da15-4a3c-9c82-73fcde13522e"
      },
      "execution_count": 45,
      "outputs": [
        {
          "output_type": "stream",
          "name": "stdout",
          "text": [
            "2\n"
          ]
        }
      ]
    },
    {
      "cell_type": "markdown",
      "source": [
        "Model Creation"
      ],
      "metadata": {
        "id": "Hq02guEvIBjz"
      }
    },
    {
      "cell_type": "code",
      "source": [
        "#Our base model definition\n",
        "\n",
        "from keras import models\n",
        "from keras import layers\n",
        "model = models.Sequential()\n",
        "model.add(layers.Dense(16, activation='relu', input_shape=(10000,)))\n",
        "model.add(layers.Dense(16, activation='relu'))\n",
        "model.add(layers.Dense(1, activation='sigmoid'))"
      ],
      "metadata": {
        "id": "bvDtbYYNH_aG"
      },
      "execution_count": 46,
      "outputs": []
    },
    {
      "cell_type": "code",
      "source": [
        "#Compiling our model\n",
        "model.compile(optimizer='rmsprop',\n",
        "loss='binary_crossentropy',\n",
        "metrics=['accuracy'])"
      ],
      "metadata": {
        "id": "91JBiXmaH_ny"
      },
      "execution_count": 47,
      "outputs": []
    },
    {
      "cell_type": "code",
      "source": [
        "#Training our model\n",
        "\n",
        "history = model.fit(partial_x_train,\n",
        "    partial_y_train,\n",
        "    epochs=20,\n",
        "    batch_size=512,\n",
        "    validation_data=(x_val, y_val))"
      ],
      "metadata": {
        "id": "3r5uMghQH_uk",
        "colab": {
          "base_uri": "https://localhost:8080/",
          "height": 0
        },
        "outputId": "21289d70-9ddc-458b-bdfe-315e8b24fc35"
      },
      "execution_count": 48,
      "outputs": [
        {
          "output_type": "stream",
          "name": "stdout",
          "text": [
            "Epoch 1/20\n",
            "30/30 [==============================] - 2s 45ms/step - loss: 0.5537 - accuracy: 0.7744 - val_loss: 0.4286 - val_accuracy: 0.8611\n",
            "Epoch 2/20\n",
            "30/30 [==============================] - 1s 36ms/step - loss: 0.3430 - accuracy: 0.8992 - val_loss: 0.3298 - val_accuracy: 0.8822\n",
            "Epoch 3/20\n",
            "30/30 [==============================] - 1s 36ms/step - loss: 0.2480 - accuracy: 0.9239 - val_loss: 0.2854 - val_accuracy: 0.8917\n",
            "Epoch 4/20\n",
            "30/30 [==============================] - 1s 36ms/step - loss: 0.1946 - accuracy: 0.9386 - val_loss: 0.2727 - val_accuracy: 0.8931\n",
            "Epoch 5/20\n",
            "30/30 [==============================] - 1s 36ms/step - loss: 0.1554 - accuracy: 0.9505 - val_loss: 0.2797 - val_accuracy: 0.8864\n",
            "Epoch 6/20\n",
            "30/30 [==============================] - 1s 36ms/step - loss: 0.1275 - accuracy: 0.9603 - val_loss: 0.2946 - val_accuracy: 0.8828\n",
            "Epoch 7/20\n",
            "30/30 [==============================] - 1s 36ms/step - loss: 0.1020 - accuracy: 0.9719 - val_loss: 0.2972 - val_accuracy: 0.8850\n",
            "Epoch 8/20\n",
            "30/30 [==============================] - 1s 37ms/step - loss: 0.0824 - accuracy: 0.9776 - val_loss: 0.3243 - val_accuracy: 0.8797\n",
            "Epoch 9/20\n",
            "30/30 [==============================] - 1s 36ms/step - loss: 0.0656 - accuracy: 0.9842 - val_loss: 0.3385 - val_accuracy: 0.8812\n",
            "Epoch 10/20\n",
            "30/30 [==============================] - 1s 36ms/step - loss: 0.0494 - accuracy: 0.9892 - val_loss: 0.3652 - val_accuracy: 0.8762\n",
            "Epoch 11/20\n",
            "30/30 [==============================] - 1s 36ms/step - loss: 0.0382 - accuracy: 0.9920 - val_loss: 0.3845 - val_accuracy: 0.8784\n",
            "Epoch 12/20\n",
            "30/30 [==============================] - 1s 36ms/step - loss: 0.0280 - accuracy: 0.9941 - val_loss: 0.4117 - val_accuracy: 0.8755\n",
            "Epoch 13/20\n",
            "30/30 [==============================] - 1s 35ms/step - loss: 0.0222 - accuracy: 0.9961 - val_loss: 0.4376 - val_accuracy: 0.8756\n",
            "Epoch 14/20\n",
            "30/30 [==============================] - 1s 36ms/step - loss: 0.0139 - accuracy: 0.9987 - val_loss: 0.4746 - val_accuracy: 0.8747\n",
            "Epoch 15/20\n",
            "30/30 [==============================] - 1s 36ms/step - loss: 0.0107 - accuracy: 0.9993 - val_loss: 0.5067 - val_accuracy: 0.8734\n",
            "Epoch 16/20\n",
            "30/30 [==============================] - 1s 40ms/step - loss: 0.0064 - accuracy: 0.9997 - val_loss: 0.6121 - val_accuracy: 0.8593\n",
            "Epoch 17/20\n",
            "30/30 [==============================] - 1s 36ms/step - loss: 0.0052 - accuracy: 0.9997 - val_loss: 0.5839 - val_accuracy: 0.8692\n",
            "Epoch 18/20\n",
            "30/30 [==============================] - 1s 36ms/step - loss: 0.0027 - accuracy: 0.9999 - val_loss: 0.6619 - val_accuracy: 0.8688\n",
            "Epoch 19/20\n",
            "30/30 [==============================] - 1s 36ms/step - loss: 0.0058 - accuracy: 0.9987 - val_loss: 0.6721 - val_accuracy: 0.8698\n",
            "Epoch 20/20\n",
            "30/30 [==============================] - 1s 36ms/step - loss: 0.0012 - accuracy: 0.9999 - val_loss: 0.6975 - val_accuracy: 0.8686\n"
          ]
        }
      ]
    },
    {
      "cell_type": "code",
      "source": [
        "#The history dictionary\n",
        "\n",
        "history_dict = history.history\n",
        "print(history_dict.keys())"
      ],
      "metadata": {
        "id": "vAvXS4DAJ4tj",
        "colab": {
          "base_uri": "https://localhost:8080/",
          "height": 0
        },
        "outputId": "0b875627-04ba-4ee6-9104-e5e0eec91aa2"
      },
      "execution_count": 49,
      "outputs": [
        {
          "output_type": "stream",
          "name": "stdout",
          "text": [
            "dict_keys(['loss', 'accuracy', 'val_loss', 'val_accuracy'])\n"
          ]
        }
      ]
    },
    {
      "cell_type": "code",
      "source": [
        "#Plotting the training and validation loss\n",
        "import matplotlib.pyplot as plt\n",
        "\n",
        "loss = history.history['loss']\n",
        "val_loss = history.history['val_loss']\n",
        "epochs = range(1, len(loss) + 1)\n",
        "# \"bo\" is for \"blue dot\"\n",
        "plt.plot(epochs, loss, 'bo', label='Training loss')\n",
        "# b is for \"solid blue line\"\n",
        "plt.plot(epochs, val_loss, 'b', label='Validation loss')\n",
        "plt.title('Training and validation loss')\n",
        "plt.xlabel('Epochs')\n",
        "plt.ylabel('Loss')\n",
        "plt.legend()\n",
        "plt.show()"
      ],
      "metadata": {
        "id": "bhvEp3iiI3p6",
        "colab": {
          "base_uri": "https://localhost:8080/",
          "height": 295
        },
        "outputId": "ee50cbbb-20a6-4479-d40a-af61ba89981e"
      },
      "execution_count": 51,
      "outputs": [
        {
          "output_type": "display_data",
          "data": {
            "image/png": "[encoded data removed]",
            "text/plain": [
              "<Figure size 432x288 with 1 Axes>"
            ]
          },
          "metadata": {
            "needs_background": "light"
          }
        }
      ]
    },
    {
      "cell_type": "code",
      "source": [
        "#Plotting the training and validation accuracy\n",
        "plt.clf() # clear figure\n",
        "acc = history.history['accuracy']\n",
        "val_acc = history.history['val_accuracy']\n",
        "plt.plot(epochs, acc, 'bo', label='Training acc')\n",
        "plt.plot(epochs, val_acc, 'b', label='Validation acc')\n",
        "plt.title('Training and validation accuracy')\n",
        "plt.xlabel('Epochs')\n",
        "plt.ylabel('Accuracy')\n",
        "plt.legend()\n",
        "plt.show()"
      ],
      "metadata": {
        "id": "BG-r_Z7lI3tc",
        "colab": {
          "base_uri": "https://localhost:8080/",
          "height": 295
        },
        "outputId": "9a30203b-1410-4ced-81a4-10c479434de3"
      },
      "execution_count": 52,
      "outputs": [
        {
          "output_type": "display_data",
          "data": {
            "image/png": "[encoded data removed]",
            "text/plain": [
              "<Figure size 432x288 with 1 Axes>"
            ]
          },
          "metadata": {
            "needs_background": "light"
          }
        }
      ]
    },
    {
      "cell_type": "code",
      "source": [
        "#Re-training a model from scratch\n",
        "\n",
        "model = models.Sequential()\n",
        "model.add(layers.Dense(16, activation='relu', input_shape=(10000,)))\n",
        "model.add(layers.Dense(16, activation='relu'))\n",
        "model.add(layers.Dense(1, activation='sigmoid'))\n",
        "model.compile(optimizer='rmsprop',\n",
        "loss='binary_crossentropy',\n",
        "metrics=['accuracy'])\n",
        "model.fit(x_train, y_train, epochs=4, batch_size=512)\n",
        "results = model.evaluate(x_test, y_test)\n"
      ],
      "metadata": {
        "id": "h9MRHJBPI3x6",
        "colab": {
          "base_uri": "https://localhost:8080/",
          "height": 0
        },
        "outputId": "647f736c-eac2-4ee2-fd86-f5be794f2d91"
      },
      "execution_count": 53,
      "outputs": [
        {
          "output_type": "stream",
          "name": "stdout",
          "text": [
            "Epoch 1/4\n",
            "49/49 [==============================] - 2s 29ms/step - loss: 0.5247 - accuracy: 0.8143\n",
            "Epoch 2/4\n",
            "49/49 [==============================] - 1s 29ms/step - loss: 0.3140 - accuracy: 0.9021\n",
            "Epoch 3/4\n",
            "49/49 [==============================] - 1s 29ms/step - loss: 0.2302 - accuracy: 0.9220\n",
            "Epoch 4/4\n",
            "49/49 [==============================] - 1s 28ms/step - loss: 0.1872 - accuracy: 0.9364\n",
            "782/782 [==============================] - 2s 2ms/step - loss: 0.2809 - accuracy: 0.8888\n"
          ]
        }
      ]
    },
    {
      "cell_type": "code",
      "source": [
        "print(results)"
      ],
      "metadata": {
        "colab": {
          "base_uri": "https://localhost:8080/",
          "height": 0
        },
        "id": "4UshZB5g4gEK",
        "outputId": "1780348c-23f8-4d7a-c780-7fadc094d7e0"
      },
      "execution_count": 54,
      "outputs": [
        {
          "output_type": "stream",
          "name": "stdout",
          "text": [
            "[0.280939519405365, 0.888759970664978]\n"
          ]
        }
      ]
    },
    {
      "cell_type": "markdown",
      "source": [
        "1. You used two hidden layers. Try using one or three hidden layers, and see how doing so affects validation and test accuracy."
      ],
      "metadata": {
        "id": "kceYmtRKwwNB"
      }
    },
    {
      "cell_type": "code",
      "source": [
        "# 1. Using three hidden layers, and seeing how it affects validation and test accuracy.\n",
        "\n",
        "model_1 = keras.Sequential([\n",
        "    layers.Dense(16, activation=\"relu\"),\n",
        "    layers.Dense(16, activation=\"relu\"),\n",
        "    layers.Dense(16, activation=\"relu\"),\n",
        "    layers.Dense(1, activation=\"sigmoid\")\n",
        "])\n",
        "\n",
        "model_1.compile(optimizer=\"rmsprop\",\n",
        "              loss=\"binary_crossentropy\",\n",
        "              metrics=[\"accuracy\"])\n",
        "\n",
        "# Training our model\n",
        "\n",
        "history_1 = model_1.fit(partial_x_train,\n",
        "                    partial_y_train,\n",
        "                    epochs=20,\n",
        "                    batch_size=512,\n",
        "                    validation_data=(x_val, y_val))"
      ],
      "metadata": {
        "id": "ujqJEV8wI31H",
        "colab": {
          "base_uri": "https://localhost:8080/",
          "height": 0
        },
        "outputId": "e3690c06-7474-4d55-f00e-2979a73ff365"
      },
      "execution_count": 13,
      "outputs": [
        {
          "output_type": "stream",
          "name": "stdout",
          "text": [
            "Epoch 1/20\n",
            "30/30 [==============================] - 2s 45ms/step - loss: 0.5482 - accuracy: 0.7681 - val_loss: 0.4124 - val_accuracy: 0.8612\n",
            "Epoch 2/20\n",
            "30/30 [==============================] - 1s 34ms/step - loss: 0.3248 - accuracy: 0.9004 - val_loss: 0.3152 - val_accuracy: 0.8833\n",
            "Epoch 3/20\n",
            "30/30 [==============================] - 1s 33ms/step - loss: 0.2261 - accuracy: 0.9302 - val_loss: 0.3018 - val_accuracy: 0.8788\n",
            "Epoch 4/20\n",
            "30/30 [==============================] - 1s 34ms/step - loss: 0.1706 - accuracy: 0.9443 - val_loss: 0.2879 - val_accuracy: 0.8851\n",
            "Epoch 5/20\n",
            "30/30 [==============================] - 1s 35ms/step - loss: 0.1329 - accuracy: 0.9585 - val_loss: 0.3056 - val_accuracy: 0.8823\n",
            "Epoch 6/20\n",
            "30/30 [==============================] - 1s 37ms/step - loss: 0.1086 - accuracy: 0.9666 - val_loss: 0.3113 - val_accuracy: 0.8868\n",
            "Epoch 7/20\n",
            "30/30 [==============================] - 1s 36ms/step - loss: 0.0810 - accuracy: 0.9755 - val_loss: 0.3623 - val_accuracy: 0.8745\n",
            "Epoch 8/20\n",
            "30/30 [==============================] - 1s 34ms/step - loss: 0.0617 - accuracy: 0.9833 - val_loss: 0.3655 - val_accuracy: 0.8795\n",
            "Epoch 9/20\n",
            "30/30 [==============================] - 1s 34ms/step - loss: 0.0490 - accuracy: 0.9861 - val_loss: 0.3960 - val_accuracy: 0.8770\n",
            "Epoch 10/20\n",
            "30/30 [==============================] - 1s 33ms/step - loss: 0.0362 - accuracy: 0.9907 - val_loss: 0.4355 - val_accuracy: 0.8755\n",
            "Epoch 11/20\n",
            "30/30 [==============================] - 1s 33ms/step - loss: 0.0319 - accuracy: 0.9924 - val_loss: 0.4680 - val_accuracy: 0.8741\n",
            "Epoch 12/20\n",
            "30/30 [==============================] - 1s 34ms/step - loss: 0.0251 - accuracy: 0.9937 - val_loss: 0.4989 - val_accuracy: 0.8730\n",
            "Epoch 13/20\n",
            "30/30 [==============================] - 1s 34ms/step - loss: 0.0093 - accuracy: 0.9992 - val_loss: 0.5321 - val_accuracy: 0.8728\n",
            "Epoch 14/20\n",
            "30/30 [==============================] - 1s 33ms/step - loss: 0.0196 - accuracy: 0.9945 - val_loss: 0.5634 - val_accuracy: 0.8702\n",
            "Epoch 15/20\n",
            "30/30 [==============================] - 1s 34ms/step - loss: 0.0046 - accuracy: 0.9998 - val_loss: 0.6046 - val_accuracy: 0.8697\n",
            "Epoch 16/20\n",
            "30/30 [==============================] - 1s 33ms/step - loss: 0.0129 - accuracy: 0.9960 - val_loss: 0.6394 - val_accuracy: 0.8701\n",
            "Epoch 17/20\n",
            "30/30 [==============================] - 1s 34ms/step - loss: 0.0023 - accuracy: 0.9999 - val_loss: 0.6758 - val_accuracy: 0.8701\n",
            "Epoch 18/20\n",
            "30/30 [==============================] - 1s 34ms/step - loss: 0.0114 - accuracy: 0.9963 - val_loss: 0.7200 - val_accuracy: 0.8646\n",
            "Epoch 19/20\n",
            "30/30 [==============================] - 1s 33ms/step - loss: 0.0014 - accuracy: 0.9999 - val_loss: 0.7435 - val_accuracy: 0.8666\n",
            "Epoch 20/20\n",
            "30/30 [==============================] - 1s 33ms/step - loss: 0.0011 - accuracy: 0.9999 - val_loss: 0.7919 - val_accuracy: 0.8642\n"
          ]
        }
      ]
    },
    {
      "cell_type": "code",
      "source": [
        "# Plotting the training and validation loss\n",
        "history_dict_1 = history_1.history\n",
        "\n",
        "loss = history_1.history['loss']\n",
        "val_loss = history_1.history['val_loss']\n",
        "epochs = range(1, len(loss) + 1)\n",
        "plt.plot(epochs, loss, 'bo', label='Training loss')\n",
        "plt.plot(epochs, val_loss, 'b', label='Validation loss')\n",
        "plt.axvline(x=4,color='k',linestyle=':')\n",
        "plt.title('Training and validation loss')\n",
        "plt.xlabel('Epochs')\n",
        "plt.ylabel('Validation score')\n",
        "plt.legend()"
      ],
      "metadata": {
        "colab": {
          "base_uri": "https://localhost:8080/",
          "height": 313
        },
        "id": "VKaPBveY3cJa",
        "outputId": "87241168-c04d-42d2-9c1d-4073dac1431d"
      },
      "execution_count": 15,
      "outputs": [
        {
          "output_type": "execute_result",
          "data": {
            "text/plain": [
              "<matplotlib.legend.Legend at 0x7fd36071d510>"
            ]
          },
          "metadata": {},
          "execution_count": 15
        },
        {
          "output_type": "display_data",
          "data": {
            "image/png": "[encoded data removed]",
            "text/plain": [
              "<Figure size 432x288 with 1 Axes>"
            ]
          },
          "metadata": {
            "needs_background": "light"
          }
        }
      ]
    },
    {
      "cell_type": "code",
      "source": [
        "# Plotting the training and validation accuracy\n",
        "plt.clf()\n",
        "acc = history_dict_1[\"accuracy\"]\n",
        "val_acc = history_dict_1[\"val_accuracy\"]\n",
        "plt.plot(epochs, acc, \"bo\", label=\"Training acc\")\n",
        "plt.plot(epochs, val_acc, \"b\", label=\"Validation acc\")\n",
        "plt.axvline(x=4,label='line at epochs=4',color='k',linestyle=':')\n",
        "plt.title(\"Training and validation accuracy\")\n",
        "plt.xlabel(\"Epochs\")\n",
        "plt.ylabel(\"Accuracy\")\n",
        "plt.legend()\n",
        "plt.show()"
      ],
      "metadata": {
        "colab": {
          "base_uri": "https://localhost:8080/",
          "height": 295
        },
        "id": "oTmHwatR3cMm",
        "outputId": "50ecb420-601e-434f-e862-4ce3d040ba7a"
      },
      "execution_count": 17,
      "outputs": [
        {
          "output_type": "display_data",
          "data": {
            "image/png": "[encoded data removed]",
            "text/plain": [
              "<Figure size 432x288 with 1 Axes>"
            ]
          },
          "metadata": {
            "needs_background": "light"
          }
        }
      ]
    },
    {
      "cell_type": "markdown",
      "source": [
        "Validation loss seems to be minimum at the fourth epoch and then starts to increase. Similarly, accuracy seems to start decreasing from fourth epoch. This phenomenon is called \"overfitting\". In this case, to prevent overfitting, we could simply stop training after four epochs.So, we will train a new network from scratch for four epochs, then evaluate it on our test data."
      ],
      "metadata": {
        "id": "fBYKwqDJ6uIT"
      }
    },
    {
      "cell_type": "code",
      "source": [
        "model_1s = models.Sequential()\n",
        "model_1s.add(layers.Dense(16, activation='relu', input_shape=(10000,)))\n",
        "model_1s.add(layers.Dense(16, activation='relu'))\n",
        "model_1s.add(layers.Dense(16, activation='relu'))\n",
        "model_1s.add(layers.Dense(1, activation='sigmoid'))\n",
        "model_1s.compile(optimizer='rmsprop',\n",
        "loss='binary_crossentropy',\n",
        "metrics=['accuracy'])\n",
        "model_1s.fit(x_train, y_train, epochs=4, batch_size=512)\n",
        "results1 = model_1s.evaluate(x_test, y_test)"
      ],
      "metadata": {
        "colab": {
          "base_uri": "https://localhost:8080/",
          "height": 0
        },
        "id": "9Hz-2G296sqp",
        "outputId": "41f3c933-2646-478a-836b-f7e798f934d5"
      },
      "execution_count": 20,
      "outputs": [
        {
          "output_type": "stream",
          "name": "stdout",
          "text": [
            "Epoch 1/4\n",
            "49/49 [==============================] - 3s 29ms/step - loss: 0.4934 - accuracy: 0.7824\n",
            "Epoch 2/4\n",
            "49/49 [==============================] - 1s 29ms/step - loss: 0.2614 - accuracy: 0.9096\n",
            "Epoch 3/4\n",
            "49/49 [==============================] - 1s 29ms/step - loss: 0.1990 - accuracy: 0.9275\n",
            "Epoch 4/4\n",
            "49/49 [==============================] - 1s 29ms/step - loss: 0.1664 - accuracy: 0.9412\n",
            "782/782 [==============================] - 2s 2ms/step - loss: 0.3069 - accuracy: 0.8803\n"
          ]
        }
      ]
    },
    {
      "cell_type": "code",
      "source": [
        "print(results1)"
      ],
      "metadata": {
        "colab": {
          "base_uri": "https://localhost:8080/",
          "height": 0
        },
        "id": "sq_Ko3dh8bby",
        "outputId": "bc0ebdce-76d3-4521-cebb-5fe06fedce6d"
      },
      "execution_count": 21,
      "outputs": [
        {
          "output_type": "stream",
          "name": "stdout",
          "text": [
            "[0.30690521001815796, 0.8803200125694275]\n"
          ]
        }
      ]
    },
    {
      "cell_type": "markdown",
      "source": [
        "By using 3 hidden layers, we could see a very slight decrease in test accuracy compared to 2 hidden layers ."
      ],
      "metadata": {
        "id": "JxYCqzeiAfuB"
      }
    },
    {
      "cell_type": "markdown",
      "source": [
        "2.Try using layers with more hidden units or fewer hidden units: 32 units, 64 units, and so on."
      ],
      "metadata": {
        "id": "SgDNTZKz-OKZ"
      }
    },
    {
      "cell_type": "code",
      "source": [
        "model_2 = keras.Sequential([\n",
        "    layers.Dense(32, activation=\"relu\"),\n",
        "    layers.Dense(64, activation=\"relu\"),\n",
        "    layers.Dense(1, activation=\"sigmoid\")\n",
        "])\n",
        "model_2.compile(optimizer=\"rmsprop\",\n",
        "              loss=\"binary_crossentropy\",\n",
        "              metrics=[\"accuracy\"])"
      ],
      "metadata": {
        "id": "NYqYTFHG3cQD"
      },
      "execution_count": 35,
      "outputs": []
    },
    {
      "cell_type": "code",
      "source": [
        "  history_2 = model_2.fit(partial_x_train,\n",
        "                    partial_y_train,\n",
        "                    epochs=20,\n",
        "                    batch_size=512,\n",
        "                    validation_data=(x_val, y_val))"
      ],
      "metadata": {
        "colab": {
          "base_uri": "https://localhost:8080/",
          "height": 0
        },
        "id": "Mv5imVgy_Sbr",
        "outputId": "dbcf97d4-df43-4f60-97b5-89ae2a0293e4"
      },
      "execution_count": 36,
      "outputs": [
        {
          "output_type": "stream",
          "name": "stdout",
          "text": [
            "Epoch 1/20\n",
            "30/30 [==============================] - 3s 55ms/step - loss: 0.4793 - accuracy: 0.7972 - val_loss: 0.4273 - val_accuracy: 0.8087\n",
            "Epoch 2/20\n",
            "30/30 [==============================] - 1s 42ms/step - loss: 0.2581 - accuracy: 0.9078 - val_loss: 0.3907 - val_accuracy: 0.8316\n",
            "Epoch 3/20\n",
            "30/30 [==============================] - 1s 43ms/step - loss: 0.1965 - accuracy: 0.9279 - val_loss: 0.2784 - val_accuracy: 0.8893\n",
            "Epoch 4/20\n",
            "30/30 [==============================] - 1s 45ms/step - loss: 0.1442 - accuracy: 0.9491 - val_loss: 0.2996 - val_accuracy: 0.8837\n",
            "Epoch 5/20\n",
            "30/30 [==============================] - 1s 43ms/step - loss: 0.1268 - accuracy: 0.9555 - val_loss: 0.3423 - val_accuracy: 0.8731\n",
            "Epoch 6/20\n",
            "30/30 [==============================] - 1s 43ms/step - loss: 0.0923 - accuracy: 0.9699 - val_loss: 0.3236 - val_accuracy: 0.8840\n",
            "Epoch 7/20\n",
            "30/30 [==============================] - 1s 43ms/step - loss: 0.0747 - accuracy: 0.9755 - val_loss: 0.3818 - val_accuracy: 0.8748\n",
            "Epoch 8/20\n",
            "30/30 [==============================] - 1s 42ms/step - loss: 0.0549 - accuracy: 0.9841 - val_loss: 0.3956 - val_accuracy: 0.8779\n",
            "Epoch 9/20\n",
            "30/30 [==============================] - 1s 42ms/step - loss: 0.0509 - accuracy: 0.9848 - val_loss: 0.4236 - val_accuracy: 0.8784\n",
            "Epoch 10/20\n",
            "30/30 [==============================] - 1s 43ms/step - loss: 0.0376 - accuracy: 0.9901 - val_loss: 0.4605 - val_accuracy: 0.8757\n",
            "Epoch 11/20\n",
            "30/30 [==============================] - 1s 43ms/step - loss: 0.0268 - accuracy: 0.9921 - val_loss: 0.5391 - val_accuracy: 0.8643\n",
            "Epoch 12/20\n",
            "30/30 [==============================] - 1s 43ms/step - loss: 0.0115 - accuracy: 0.9987 - val_loss: 0.5342 - val_accuracy: 0.8712\n",
            "Epoch 13/20\n",
            "30/30 [==============================] - 1s 42ms/step - loss: 0.0226 - accuracy: 0.9930 - val_loss: 0.5819 - val_accuracy: 0.8698\n",
            "Epoch 14/20\n",
            "30/30 [==============================] - 1s 42ms/step - loss: 0.0049 - accuracy: 0.9997 - val_loss: 0.6192 - val_accuracy: 0.8690\n",
            "Epoch 15/20\n",
            "30/30 [==============================] - 1s 43ms/step - loss: 0.0234 - accuracy: 0.9933 - val_loss: 0.6628 - val_accuracy: 0.8686\n",
            "Epoch 16/20\n",
            "30/30 [==============================] - 1s 43ms/step - loss: 0.0023 - accuracy: 0.9999 - val_loss: 0.6915 - val_accuracy: 0.8670\n",
            "Epoch 17/20\n",
            "30/30 [==============================] - 1s 43ms/step - loss: 0.0018 - accuracy: 0.9999 - val_loss: 0.8497 - val_accuracy: 0.8567\n",
            "Epoch 18/20\n",
            "30/30 [==============================] - 1s 43ms/step - loss: 0.0155 - accuracy: 0.9947 - val_loss: 0.7573 - val_accuracy: 0.8692\n",
            "Epoch 19/20\n",
            "30/30 [==============================] - 2s 68ms/step - loss: 0.0011 - accuracy: 0.9999 - val_loss: 0.7902 - val_accuracy: 0.8678\n",
            "Epoch 20/20\n",
            "30/30 [==============================] - 3s 88ms/step - loss: 0.0180 - accuracy: 0.9953 - val_loss: 0.8273 - val_accuracy: 0.8671\n"
          ]
        }
      ]
    },
    {
      "cell_type": "code",
      "source": [
        "history_dict_2 = history_2.history\n",
        "loss_values = history_dict_2[\"loss\"]\n",
        "val_loss_values = history_dict_2[\"val_loss\"]\n",
        "epochs = range(1, len(loss_values) + 1)\n",
        "plt.plot(epochs, loss_values, \"bo\", label=\"Training loss\")\n",
        "plt.plot(epochs, val_loss_values, \"b\", label=\"Validation loss\")\n",
        "plt.axvline(x=3,color='k',linestyle=':')\n",
        "plt.title(\"Training and validation loss\")\n",
        "plt.xlabel(\"Epochs\")\n",
        "plt.ylabel(\"Loss\")\n",
        "plt.legend()\n",
        "plt.show()"
      ],
      "metadata": {
        "colab": {
          "base_uri": "https://localhost:8080/",
          "height": 295
        },
        "id": "z9XU4GDZ_cw0",
        "outputId": "b019e55f-5d1a-4e67-d2e4-9350e4a30029"
      },
      "execution_count": 38,
      "outputs": [
        {
          "output_type": "display_data",
          "data": {
            "image/png": "[encoded data removed]",
            "text/plain": [
              "<Figure size 432x288 with 1 Axes>"
            ]
          },
          "metadata": {
            "needs_background": "light"
          }
        }
      ]
    },
    {
      "cell_type": "code",
      "source": [
        "plt.clf()\n",
        "acc = history_dict_2[\"accuracy\"]\n",
        "val_acc = history_dict_2[\"val_accuracy\"]\n",
        "plt.plot(epochs, acc, \"bo\", label=\"Training acc\")\n",
        "plt.plot(epochs, val_acc, \"b\", label=\"Validation acc\")\n",
        "plt.axvline(x=3,color='k',linestyle=':')\n",
        "plt.title(\"Training and validation accuracy\")\n",
        "plt.xlabel(\"Epochs\")\n",
        "plt.ylabel(\"Accuracy\")\n",
        "plt.legend()\n",
        "plt.show()"
      ],
      "metadata": {
        "colab": {
          "base_uri": "https://localhost:8080/",
          "height": 295
        },
        "id": "hiUkDmSq_dHd",
        "outputId": "bc73332d-91b8-469a-ebbd-59cc86902d18"
      },
      "execution_count": 39,
      "outputs": [
        {
          "output_type": "display_data",
          "data": {
            "image/png": "[encoded data removed]",
            "text/plain": [
              "<Figure size 432x288 with 1 Axes>"
            ]
          },
          "metadata": {
            "needs_background": "light"
          }
        }
      ]
    },
    {
      "cell_type": "markdown",
      "source": [
        "Validation loss seems to be minimum at the Third epoch and then starts to increase. Similarly, accuracy seems to start decreasing from Third epoch. This phenomenon is called \"overfitting\". In this case, to prevent overfitting, we could simply stop training after three epochs.So, we will train a new network from scratch for three epochs, then evaluate it on our test data."
      ],
      "metadata": {
        "id": "TOc-fUf3DJ1x"
      }
    },
    {
      "cell_type": "code",
      "source": [
        "model_2s = models.Sequential()\n",
        "model_2s.add(layers.Dense(32, activation='relu', input_shape=(10000,)))\n",
        "model_2s.add(layers.Dense(64, activation='relu'))\n",
        "model_2s.add(layers.Dense(1, activation='sigmoid'))\n",
        "model_2s.compile(optimizer='rmsprop',\n",
        "loss='binary_crossentropy',\n",
        "metrics=['accuracy'])\n",
        "model_2s.fit(x_train, y_train, epochs=3, batch_size=512)\n",
        "results2 = model_2s.evaluate(x_test, y_test)"
      ],
      "metadata": {
        "colab": {
          "base_uri": "https://localhost:8080/",
          "height": 0
        },
        "id": "yuc1uoMHDKQI",
        "outputId": "6efd1b22-0e01-42c6-dc29-5647df0459b0"
      },
      "execution_count": 40,
      "outputs": [
        {
          "output_type": "stream",
          "name": "stdout",
          "text": [
            "Epoch 1/3\n",
            "49/49 [==============================] - 3s 35ms/step - loss: 0.4297 - accuracy: 0.8156\n",
            "Epoch 2/3\n",
            "49/49 [==============================] - 2s 33ms/step - loss: 0.2422 - accuracy: 0.9112\n",
            "Epoch 3/3\n",
            "49/49 [==============================] - 2s 33ms/step - loss: 0.1895 - accuracy: 0.9288\n",
            "782/782 [==============================] - 2s 2ms/step - loss: 0.3021 - accuracy: 0.8796\n"
          ]
        }
      ]
    },
    {
      "cell_type": "code",
      "source": [
        "print(results2)"
      ],
      "metadata": {
        "colab": {
          "base_uri": "https://localhost:8080/",
          "height": 0
        },
        "id": "qjwTMBAuFeOK",
        "outputId": "1c5bc3ad-bdda-4bb3-c095-80083a64f2c6"
      },
      "execution_count": 41,
      "outputs": [
        {
          "output_type": "stream",
          "name": "stdout",
          "text": [
            "[0.3021339774131775, 0.8796399831771851]\n"
          ]
        }
      ]
    },
    {
      "cell_type": "markdown",
      "source": [
        "Having more hidden units allows the network to learn more complex representations, but it makes the network more computationally expensive and may lead to learning unwanted patterns i.e.overfitting. We could see overfitting occuring in our neural network which caused a slight decrease in test accuracy compared to the layers with less hidden units ."
      ],
      "metadata": {
        "id": "atE5b_qGGSZP"
      }
    },
    {
      "cell_type": "markdown",
      "source": [
        "3. Try using the 'mse' loss function instead of 'binary_crossentropy'.\n",
        "\n"
      ],
      "metadata": {
        "id": "KjH4a8G4AitA"
      }
    },
    {
      "cell_type": "code",
      "source": [
        "model_3 = keras.Sequential([\n",
        "    layers.Dense(16, activation=\"relu\"),\n",
        "    layers.Dense(16, activation=\"relu\"),\n",
        "    layers.Dense(1, activation=\"sigmoid\")\n",
        "])\n",
        "model_3.compile(optimizer=\"rmsprop\",\n",
        "              loss=\"mse\",\n",
        "              metrics=[\"accuracy\"])"
      ],
      "metadata": {
        "id": "4f6EnbVlAk00"
      },
      "execution_count": 5,
      "outputs": []
    },
    {
      "cell_type": "code",
      "source": [
        "# Training our model\n",
        "\n",
        "history_3 = model_3.fit(partial_x_train,\n",
        "                    partial_y_train,\n",
        "                    epochs=20,\n",
        "                    batch_size=512,\n",
        "                    validation_data=(x_val, y_val))"
      ],
      "metadata": {
        "colab": {
          "base_uri": "https://localhost:8080/",
          "height": 0
        },
        "id": "Ep7oXiwwAk4O",
        "outputId": "94e77931-efbe-4283-89ff-0fe9eec6b42d"
      },
      "execution_count": 6,
      "outputs": [
        {
          "output_type": "stream",
          "name": "stdout",
          "text": [
            "Epoch 1/20\n",
            "30/30 [==============================] - 2s 50ms/step - loss: 0.1621 - accuracy: 0.7971 - val_loss: 0.1121 - val_accuracy: 0.8774\n",
            "Epoch 2/20\n",
            "30/30 [==============================] - 1s 37ms/step - loss: 0.0869 - accuracy: 0.9041 - val_loss: 0.0940 - val_accuracy: 0.8826\n",
            "Epoch 3/20\n",
            "30/30 [==============================] - 1s 37ms/step - loss: 0.0624 - accuracy: 0.9314 - val_loss: 0.0865 - val_accuracy: 0.8847\n",
            "Epoch 4/20\n",
            "30/30 [==============================] - 1s 37ms/step - loss: 0.0494 - accuracy: 0.9454 - val_loss: 0.0841 - val_accuracy: 0.8852\n",
            "Epoch 5/20\n",
            "30/30 [==============================] - 1s 36ms/step - loss: 0.0377 - accuracy: 0.9618 - val_loss: 0.0935 - val_accuracy: 0.8712\n",
            "Epoch 6/20\n",
            "30/30 [==============================] - 1s 37ms/step - loss: 0.0316 - accuracy: 0.9687 - val_loss: 0.0900 - val_accuracy: 0.8766\n",
            "Epoch 7/20\n",
            "30/30 [==============================] - 1s 36ms/step - loss: 0.0252 - accuracy: 0.9769 - val_loss: 0.0929 - val_accuracy: 0.8739\n",
            "Epoch 8/20\n",
            "30/30 [==============================] - 1s 43ms/step - loss: 0.0208 - accuracy: 0.9813 - val_loss: 0.0977 - val_accuracy: 0.8682\n",
            "Epoch 9/20\n",
            "30/30 [==============================] - 1s 37ms/step - loss: 0.0167 - accuracy: 0.9856 - val_loss: 0.0957 - val_accuracy: 0.8722\n",
            "Epoch 10/20\n",
            "30/30 [==============================] - 1s 37ms/step - loss: 0.0143 - accuracy: 0.9878 - val_loss: 0.0938 - val_accuracy: 0.8780\n",
            "Epoch 11/20\n",
            "30/30 [==============================] - 1s 37ms/step - loss: 0.0110 - accuracy: 0.9916 - val_loss: 0.1122 - val_accuracy: 0.8550\n",
            "Epoch 12/20\n",
            "30/30 [==============================] - 1s 37ms/step - loss: 0.0095 - accuracy: 0.9924 - val_loss: 0.0978 - val_accuracy: 0.8743\n",
            "Epoch 13/20\n",
            "30/30 [==============================] - 1s 37ms/step - loss: 0.0087 - accuracy: 0.9930 - val_loss: 0.1011 - val_accuracy: 0.8693\n",
            "Epoch 14/20\n",
            "30/30 [==============================] - 1s 40ms/step - loss: 0.0053 - accuracy: 0.9965 - val_loss: 0.1046 - val_accuracy: 0.8661\n",
            "Epoch 15/20\n",
            "30/30 [==============================] - 1s 40ms/step - loss: 0.0055 - accuracy: 0.9961 - val_loss: 0.1032 - val_accuracy: 0.8725\n",
            "Epoch 16/20\n",
            "30/30 [==============================] - 1s 42ms/step - loss: 0.0061 - accuracy: 0.9942 - val_loss: 0.1053 - val_accuracy: 0.8694\n",
            "Epoch 17/20\n",
            "30/30 [==============================] - 1s 37ms/step - loss: 0.0033 - accuracy: 0.9973 - val_loss: 0.1066 - val_accuracy: 0.8678\n",
            "Epoch 18/20\n",
            "30/30 [==============================] - 1s 38ms/step - loss: 0.0049 - accuracy: 0.9947 - val_loss: 0.1077 - val_accuracy: 0.8666\n",
            "Epoch 19/20\n",
            "30/30 [==============================] - 1s 36ms/step - loss: 0.0027 - accuracy: 0.9975 - val_loss: 0.1090 - val_accuracy: 0.8662\n",
            "Epoch 20/20\n",
            "30/30 [==============================] - 1s 37ms/step - loss: 0.0042 - accuracy: 0.9955 - val_loss: 0.1097 - val_accuracy: 0.8670\n"
          ]
        }
      ]
    },
    {
      "cell_type": "code",
      "source": [
        "# Plotting the training and validation loss\n",
        "history_dict_3 = history_3.history\n",
        "loss_values = history_dict_3[\"loss\"]\n",
        "val_loss_values = history_dict_3[\"val_loss\"]\n",
        "epochs = range(1, len(loss_values) + 1)\n",
        "plt.plot(epochs, loss_values, \"bo\", label=\"Training loss\")\n",
        "plt.plot(epochs, val_loss_values, \"b\", label=\"Validation loss\")\n",
        "plt.axvline(x=4,color='k',linestyle=':')\n",
        "plt.title(\"Training and validation loss\")\n",
        "plt.xlabel(\"Epochs\")\n",
        "plt.ylabel(\"Loss\")\n",
        "plt.legend()\n",
        "plt.show()"
      ],
      "metadata": {
        "colab": {
          "base_uri": "https://localhost:8080/",
          "height": 295
        },
        "id": "CgRFtjVzAk7l",
        "outputId": "244da663-54ec-43ff-db06-5f1d4d84b87a"
      },
      "execution_count": 8,
      "outputs": [
        {
          "output_type": "display_data",
          "data": {
            "image/png": "[encoded data removed]",
            "text/plain": [
              "<Figure size 432x288 with 1 Axes>"
            ]
          },
          "metadata": {
            "needs_background": "light"
          }
        }
      ]
    },
    {
      "cell_type": "code",
      "source": [
        "# Plotting the training and validation accuracy\n",
        "plt.clf()\n",
        "acc = history_dict_3[\"accuracy\"]\n",
        "val_acc = history_dict_3[\"val_accuracy\"]\n",
        "plt.plot(epochs, acc, \"bo\", label=\"Training acc\")\n",
        "plt.plot(epochs, val_acc, \"b\", label=\"Validation acc\")\n",
        "plt.title(\"Training and validation accuracy\")\n",
        "plt.axvline(x=4,color='k',linestyle=':')\n",
        "plt.xlabel(\"Epochs\")\n",
        "plt.ylabel(\"Accuracy\")\n",
        "plt.legend()\n",
        "plt.show()"
      ],
      "metadata": {
        "colab": {
          "base_uri": "https://localhost:8080/",
          "height": 295
        },
        "id": "_3P0SXplAyrA",
        "outputId": "834ad09c-9c37-4cbe-bde4-009be1f534a5"
      },
      "execution_count": 10,
      "outputs": [
        {
          "output_type": "display_data",
          "data": {
            "image/png": "[encoded data removed]",
            "text/plain": [
              "<Figure size 432x288 with 1 Axes>"
            ]
          },
          "metadata": {
            "needs_background": "light"
          }
        }
      ]
    },
    {
      "cell_type": "markdown",
      "source": [
        "Validation loss seems to be minimum at the fourth epoch and then starts to increase. Similarly, accuracy seems to start decreasing from fourth epoch. This phenomenon is called \"overfitting\". In this case, to prevent overfitting, we could simply stop training after four epochs.So, we will train a new network from scratch for four epochs, then evaluate it on our test data."
      ],
      "metadata": {
        "id": "8X65JbLELJZA"
      }
    },
    {
      "cell_type": "code",
      "source": [
        "model_3s = models.Sequential()\n",
        "model_3s.add(layers.Dense(16, activation='relu', input_shape=(10000,)))\n",
        "model_3s.add(layers.Dense(16, activation='relu'))\n",
        "model_3s.add(layers.Dense(1, activation='sigmoid'))\n",
        "model_3s.compile(optimizer='rmsprop',\n",
        "loss='mse',\n",
        "metrics=['accuracy'])\n",
        "model_3s.fit(x_train, y_train, epochs=4, batch_size=512)\n",
        "results3 = model_3s.evaluate(x_test, y_test)\n"
      ],
      "metadata": {
        "colab": {
          "base_uri": "https://localhost:8080/",
          "height": 0
        },
        "id": "WZBEud11LJy2",
        "outputId": "10b754bd-976b-4d2f-da1e-6bc5a2be8ff5"
      },
      "execution_count": 11,
      "outputs": [
        {
          "output_type": "stream",
          "name": "stdout",
          "text": [
            "Epoch 1/4\n",
            "49/49 [==============================] - 2s 37ms/step - loss: 0.1454 - accuracy: 0.8238\n",
            "Epoch 2/4\n",
            "49/49 [==============================] - 2s 44ms/step - loss: 0.0782 - accuracy: 0.9119\n",
            "Epoch 3/4\n",
            "49/49 [==============================] - 1s 29ms/step - loss: 0.0591 - accuracy: 0.9304\n",
            "Epoch 4/4\n",
            "49/49 [==============================] - 1s 28ms/step - loss: 0.0483 - accuracy: 0.9432\n",
            "782/782 [==============================] - 2s 2ms/step - loss: 0.0885 - accuracy: 0.8798\n"
          ]
        }
      ]
    },
    {
      "cell_type": "code",
      "source": [
        "print(results3)"
      ],
      "metadata": {
        "colab": {
          "base_uri": "https://localhost:8080/",
          "height": 0
        },
        "id": "ICdTtREFLViv",
        "outputId": "7aea8097-0c08-412a-8419-056cac8eb0e0"
      },
      "execution_count": 12,
      "outputs": [
        {
          "output_type": "stream",
          "name": "stdout",
          "text": [
            "[0.08853407949209213, 0.8797600269317627]\n"
          ]
        }
      ]
    },
    {
      "cell_type": "markdown",
      "source": [
        "MSE is preferred loss function under the inference framework of maximum likelyhood if the distribution of the target variable is gaussian. It is generally preferred for regression problems. Whereas binary_crossentropy is preferred loss funtion for binary classification problems. By using MSE loss funtion we could see a slight decrease in accuracy when compared to binary_crossentropy loss funtion"
      ],
      "metadata": {
        "id": "24PGX2DMOoS2"
      }
    },
    {
      "cell_type": "markdown",
      "source": [
        "4.Try using the tanh activation (an activation that was popular in the early days of neural networks) instead of 'relu'"
      ],
      "metadata": {
        "id": "19qtHpZqAzq7"
      }
    },
    {
      "cell_type": "code",
      "source": [
        "model_4 = keras.Sequential([\n",
        "    layers.Dense(16, activation=\"tanh\"),\n",
        "    layers.Dense(16, activation=\"tanh\"),\n",
        "    layers.Dense(1, activation=\"sigmoid\")\n",
        "    ])\n",
        "model_4.compile(optimizer=\"rmsprop\",\n",
        "              loss=\"mse\",\n",
        "              metrics=[\"accuracy\"])"
      ],
      "metadata": {
        "id": "YT-_mSmeA3CL"
      },
      "execution_count": 13,
      "outputs": []
    },
    {
      "cell_type": "code",
      "source": [
        "history_4 = model_4.fit(partial_x_train,\n",
        "                    partial_y_train,\n",
        "                    epochs=20,\n",
        "                    batch_size=512,\n",
        "                    validation_data=(x_val, y_val))"
      ],
      "metadata": {
        "colab": {
          "base_uri": "https://localhost:8080/",
          "height": 0
        },
        "id": "WmZcAcWfA3Fy",
        "outputId": "218bf379-1df1-4917-efc0-e76acd205b99"
      },
      "execution_count": 14,
      "outputs": [
        {
          "output_type": "stream",
          "name": "stdout",
          "text": [
            "Epoch 1/20\n",
            "30/30 [==============================] - 4s 101ms/step - loss: 0.1602 - accuracy: 0.7983 - val_loss: 0.1130 - val_accuracy: 0.8630\n",
            "Epoch 2/20\n",
            "30/30 [==============================] - 1s 37ms/step - loss: 0.0811 - accuracy: 0.9073 - val_loss: 0.0905 - val_accuracy: 0.8792\n",
            "Epoch 3/20\n",
            "30/30 [==============================] - 1s 36ms/step - loss: 0.0556 - accuracy: 0.9347 - val_loss: 0.0812 - val_accuracy: 0.8913\n",
            "Epoch 4/20\n",
            "30/30 [==============================] - 1s 36ms/step - loss: 0.0416 - accuracy: 0.9516 - val_loss: 0.0833 - val_accuracy: 0.8879\n",
            "Epoch 5/20\n",
            "30/30 [==============================] - 1s 36ms/step - loss: 0.0309 - accuracy: 0.9657 - val_loss: 0.0889 - val_accuracy: 0.8832\n",
            "Epoch 6/20\n",
            "30/30 [==============================] - 1s 37ms/step - loss: 0.0242 - accuracy: 0.9736 - val_loss: 0.0926 - val_accuracy: 0.8781\n",
            "Epoch 7/20\n",
            "30/30 [==============================] - 1s 36ms/step - loss: 0.0197 - accuracy: 0.9787 - val_loss: 0.0945 - val_accuracy: 0.8805\n",
            "Epoch 8/20\n",
            "30/30 [==============================] - 1s 39ms/step - loss: 0.0161 - accuracy: 0.9821 - val_loss: 0.0999 - val_accuracy: 0.8760\n",
            "Epoch 9/20\n",
            "30/30 [==============================] - 1s 36ms/step - loss: 0.0145 - accuracy: 0.9840 - val_loss: 0.1021 - val_accuracy: 0.8751\n",
            "Epoch 10/20\n",
            "30/30 [==============================] - 1s 36ms/step - loss: 0.0113 - accuracy: 0.9881 - val_loss: 0.1049 - val_accuracy: 0.8745\n",
            "Epoch 11/20\n",
            "30/30 [==============================] - 1s 37ms/step - loss: 0.0101 - accuracy: 0.9887 - val_loss: 0.1072 - val_accuracy: 0.8722\n",
            "Epoch 12/20\n",
            "30/30 [==============================] - 1s 36ms/step - loss: 0.0061 - accuracy: 0.9941 - val_loss: 0.1097 - val_accuracy: 0.8699\n",
            "Epoch 13/20\n",
            "30/30 [==============================] - 1s 37ms/step - loss: 0.0101 - accuracy: 0.9885 - val_loss: 0.1120 - val_accuracy: 0.8684\n",
            "Epoch 14/20\n",
            "30/30 [==============================] - 1s 36ms/step - loss: 0.0052 - accuracy: 0.9950 - val_loss: 0.1129 - val_accuracy: 0.8688\n",
            "Epoch 15/20\n",
            "30/30 [==============================] - 1s 36ms/step - loss: 0.0097 - accuracy: 0.9891 - val_loss: 0.1145 - val_accuracy: 0.8696\n",
            "Epoch 16/20\n",
            "30/30 [==============================] - 1s 39ms/step - loss: 0.0047 - accuracy: 0.9954 - val_loss: 0.1157 - val_accuracy: 0.8676\n",
            "Epoch 17/20\n",
            "30/30 [==============================] - 1s 36ms/step - loss: 0.0060 - accuracy: 0.9937 - val_loss: 0.1200 - val_accuracy: 0.8622\n",
            "Epoch 18/20\n",
            "30/30 [==============================] - 1s 36ms/step - loss: 0.0043 - accuracy: 0.9959 - val_loss: 0.1192 - val_accuracy: 0.8651\n",
            "Epoch 19/20\n",
            "30/30 [==============================] - 1s 36ms/step - loss: 0.0041 - accuracy: 0.9959 - val_loss: 0.1199 - val_accuracy: 0.8653\n",
            "Epoch 20/20\n",
            "30/30 [==============================] - 1s 37ms/step - loss: 0.0073 - accuracy: 0.9920 - val_loss: 0.1187 - val_accuracy: 0.8664\n"
          ]
        }
      ]
    },
    {
      "cell_type": "code",
      "source": [
        "history_dict_4 = history_4.history\n",
        "loss_values = history_dict_4[\"loss\"]\n",
        "val_loss_values = history_dict_4[\"val_loss\"]\n",
        "epochs = range(1, len(loss_values) + 1)\n",
        "plt.plot(epochs, loss_values, \"bo\", label=\"Training loss\")\n",
        "plt.plot(epochs, val_loss_values, \"b\", label=\"Validation loss\")\n",
        "plt.axvline(x=3,color='k',linestyle=':')\n",
        "plt.title(\"Training and validation loss\")\n",
        "plt.xlabel(\"Epochs\")\n",
        "plt.ylabel(\"Loss\")\n",
        "plt.legend()\n",
        "plt.show()"
      ],
      "metadata": {
        "colab": {
          "base_uri": "https://localhost:8080/",
          "height": 295
        },
        "id": "RKxyKDq8A3Mx",
        "outputId": "f2aa002c-d3e0-47a4-bc20-f4ccb2d2b9d3"
      },
      "execution_count": 16,
      "outputs": [
        {
          "output_type": "display_data",
          "data": {
            "image/png": "[encoded data removed]",
            "text/plain": [
              "<Figure size 432x288 with 1 Axes>"
            ]
          },
          "metadata": {
            "needs_background": "light"
          }
        }
      ]
    },
    {
      "cell_type": "code",
      "source": [
        "# Plotting the training and validation accuracy\n",
        "plt.clf()\n",
        "acc = history_dict_4[\"accuracy\"]\n",
        "val_acc = history_dict_4[\"val_accuracy\"]\n",
        "plt.plot(epochs, acc, \"bo\", label=\"Training acc\")\n",
        "plt.plot(epochs, val_acc, \"b\", label=\"Validation acc\")\n",
        "plt.axvline(x=3,color='k',linestyle=':')\n",
        "plt.title(\"Training and validation accuracy\")\n",
        "plt.xlabel(\"Epochs\")\n",
        "plt.ylabel(\"Accuracy\")\n",
        "plt.legend()\n",
        "plt.show()"
      ],
      "metadata": {
        "colab": {
          "base_uri": "https://localhost:8080/",
          "height": 295
        },
        "id": "m6VrTpQWBC9q",
        "outputId": "31798edc-72ad-4271-c2af-bd45ca07d1b3"
      },
      "execution_count": 17,
      "outputs": [
        {
          "output_type": "display_data",
          "data": {
            "image/png": "[encoded data removed]",
            "text/plain": [
              "<Figure size 432x288 with 1 Axes>"
            ]
          },
          "metadata": {
            "needs_background": "light"
          }
        }
      ]
    },
    {
      "cell_type": "markdown",
      "source": [
        "Validation loss seems to be minimum at the third epoch and then starts to increase. Similarly, accuracy seems to start decreasing from third epoch. This phenomenon is called \"overfitting\". In this case, to prevent overfitting, we could simply stop training after three epochs.So, we will train a new network from scratch for three epochs, then evaluate it on our test data."
      ],
      "metadata": {
        "id": "QOp7RaV3OhsB"
      }
    },
    {
      "cell_type": "code",
      "source": [
        "model_4s = models.Sequential()\n",
        "model_4s.add(layers.Dense(16, activation='tanh', input_shape=(10000,)))\n",
        "model_4s.add(layers.Dense(16, activation='tanh'))\n",
        "model_4s.add(layers.Dense(1, activation='sigmoid'))\n",
        "model_4s.compile(optimizer='rmsprop',\n",
        "loss='binary_crossentropy',\n",
        "metrics=['accuracy'])\n",
        "model_4s.fit(x_train, y_train, epochs=3, batch_size=512)\n",
        "results4 = model_4s.evaluate(x_test, y_test)"
      ],
      "metadata": {
        "colab": {
          "base_uri": "https://localhost:8080/",
          "height": 0
        },
        "id": "qGaT2XoCOiEd",
        "outputId": "5b29040d-035f-4f54-83d7-5d3671eecf08"
      },
      "execution_count": 18,
      "outputs": [
        {
          "output_type": "stream",
          "name": "stdout",
          "text": [
            "Epoch 1/3\n",
            "49/49 [==============================] - 2s 30ms/step - loss: 0.4260 - accuracy: 0.8282\n",
            "Epoch 2/3\n",
            "49/49 [==============================] - 1s 29ms/step - loss: 0.2358 - accuracy: 0.9130\n",
            "Epoch 3/3\n",
            "49/49 [==============================] - 1s 29ms/step - loss: 0.1774 - accuracy: 0.9347\n",
            "782/782 [==============================] - 2s 2ms/step - loss: 0.3291 - accuracy: 0.8684\n"
          ]
        }
      ]
    },
    {
      "cell_type": "code",
      "source": [
        "print(results4)"
      ],
      "metadata": {
        "colab": {
          "base_uri": "https://localhost:8080/",
          "height": 0
        },
        "id": "Uy3RRxniOw_M",
        "outputId": "6317495e-3a50-4500-b398-505657a89e08"
      },
      "execution_count": 19,
      "outputs": [
        {
          "output_type": "stream",
          "name": "stdout",
          "text": [
            "[0.3291013240814209, 0.868399977684021]\n"
          ]
        }
      ]
    },
    {
      "cell_type": "markdown",
      "source": [
        "By using tanh function we could see some loss in accuracy"
      ],
      "metadata": {
        "id": "qx1pna3rOiYC"
      }
    },
    {
      "cell_type": "markdown",
      "source": [
        "5.Use any technique we studied in class, and these include regularization, dropout, etc., to get your model to perform better on validation.\n"
      ],
      "metadata": {
        "id": "tLDOu75OBMdt"
      }
    },
    {
      "cell_type": "code",
      "source": [
        "#Dropout 25%\n",
        "from keras import models\n",
        "from keras import layers\n",
        "model_5D = models.Sequential()\n",
        "model_5D.add(layers.Dense(16, activation='relu', input_shape=(10000,)))\n",
        "model_5D.add(layers.Dropout(0.25))\n",
        "model_5D.add(layers.Dense(16, activation='relu'))\n",
        "model_5D.add(layers.Dropout(0.25))\n",
        "model_5D.add(layers.Dense(1, activation='sigmoid'))"
      ],
      "metadata": {
        "id": "3w3tPiU6Shd7"
      },
      "execution_count": 84,
      "outputs": []
    },
    {
      "cell_type": "code",
      "source": [
        "model_5D.compile(optimizer=\"rmsprop\",\n",
        "              loss=\"binary_crossentropy\",\n",
        "              metrics=[\"accuracy\"])"
      ],
      "metadata": {
        "id": "0K3WBS1-ud7n"
      },
      "execution_count": 85,
      "outputs": []
    },
    {
      "cell_type": "code",
      "source": [
        "history_5D = model_5D.fit(partial_x_train,\n",
        "                    partial_y_train,\n",
        "                    epochs=20,\n",
        "                    batch_size=512,\n",
        "                    validation_data=(x_val, y_val))"
      ],
      "metadata": {
        "colab": {
          "base_uri": "https://localhost:8080/",
          "height": 0
        },
        "id": "Xxo4btlBShr6",
        "outputId": "f1083018-7171-414a-e448-e5885d155f83"
      },
      "execution_count": 86,
      "outputs": [
        {
          "output_type": "stream",
          "name": "stdout",
          "text": [
            "Epoch 1/20\n",
            "30/30 [==============================] - 2s 54ms/step - loss: 0.5684 - accuracy: 0.7296 - val_loss: 0.4261 - val_accuracy: 0.8527\n",
            "Epoch 2/20\n",
            "30/30 [==============================] - 1s 37ms/step - loss: 0.3971 - accuracy: 0.8547 - val_loss: 0.3296 - val_accuracy: 0.8823\n",
            "Epoch 3/20\n",
            "30/30 [==============================] - 1s 37ms/step - loss: 0.3097 - accuracy: 0.8894 - val_loss: 0.2900 - val_accuracy: 0.8915\n",
            "Epoch 4/20\n",
            "30/30 [==============================] - 1s 36ms/step - loss: 0.2468 - accuracy: 0.9167 - val_loss: 0.2720 - val_accuracy: 0.8936\n",
            "Epoch 5/20\n",
            "30/30 [==============================] - 1s 38ms/step - loss: 0.2059 - accuracy: 0.9305 - val_loss: 0.2685 - val_accuracy: 0.8917\n",
            "Epoch 6/20\n",
            "30/30 [==============================] - 1s 37ms/step - loss: 0.1745 - accuracy: 0.9440 - val_loss: 0.2882 - val_accuracy: 0.8847\n",
            "Epoch 7/20\n",
            "30/30 [==============================] - 1s 41ms/step - loss: 0.1431 - accuracy: 0.9531 - val_loss: 0.2923 - val_accuracy: 0.8895\n",
            "Epoch 8/20\n",
            "30/30 [==============================] - 1s 37ms/step - loss: 0.1240 - accuracy: 0.9605 - val_loss: 0.3160 - val_accuracy: 0.8830\n",
            "Epoch 9/20\n",
            "30/30 [==============================] - 1s 40ms/step - loss: 0.1020 - accuracy: 0.9697 - val_loss: 0.3284 - val_accuracy: 0.8863\n",
            "Epoch 10/20\n",
            "30/30 [==============================] - 1s 37ms/step - loss: 0.0842 - accuracy: 0.9760 - val_loss: 0.3640 - val_accuracy: 0.8834\n",
            "Epoch 11/20\n",
            "30/30 [==============================] - 1s 37ms/step - loss: 0.0699 - accuracy: 0.9789 - val_loss: 0.4001 - val_accuracy: 0.8786\n",
            "Epoch 12/20\n",
            "30/30 [==============================] - 1s 36ms/step - loss: 0.0587 - accuracy: 0.9840 - val_loss: 0.4374 - val_accuracy: 0.8785\n",
            "Epoch 13/20\n",
            "30/30 [==============================] - 1s 37ms/step - loss: 0.0488 - accuracy: 0.9861 - val_loss: 0.4471 - val_accuracy: 0.8802\n",
            "Epoch 14/20\n",
            "30/30 [==============================] - 1s 37ms/step - loss: 0.0408 - accuracy: 0.9884 - val_loss: 0.4939 - val_accuracy: 0.8792\n",
            "Epoch 15/20\n",
            "30/30 [==============================] - 1s 37ms/step - loss: 0.0311 - accuracy: 0.9914 - val_loss: 0.5316 - val_accuracy: 0.8773\n",
            "Epoch 16/20\n",
            "30/30 [==============================] - 1s 37ms/step - loss: 0.0263 - accuracy: 0.9933 - val_loss: 0.5823 - val_accuracy: 0.8757\n",
            "Epoch 17/20\n",
            "30/30 [==============================] - 1s 37ms/step - loss: 0.0249 - accuracy: 0.9935 - val_loss: 0.6043 - val_accuracy: 0.8774\n",
            "Epoch 18/20\n",
            "30/30 [==============================] - 1s 40ms/step - loss: 0.0193 - accuracy: 0.9955 - val_loss: 0.6637 - val_accuracy: 0.8783\n",
            "Epoch 19/20\n",
            "30/30 [==============================] - 1s 37ms/step - loss: 0.0183 - accuracy: 0.9957 - val_loss: 0.6992 - val_accuracy: 0.8768\n",
            "Epoch 20/20\n",
            "30/30 [==============================] - 1s 37ms/step - loss: 0.0165 - accuracy: 0.9964 - val_loss: 0.7297 - val_accuracy: 0.8762\n"
          ]
        }
      ]
    },
    {
      "cell_type": "code",
      "source": [
        "# Plotting the training and validation loss\n",
        "history_dict_5D = history_5D.history\n",
        "#loss_values = history_dict_5D[\"loss\"]\n",
        "val_loss_values = history_dict_5D[\"val_loss\"]\n",
        "epochs = range(1, len(loss_values) + 1)\n",
        "#plt.plot(epochs, loss_values, \"bo\", label=\"Training loss\")\n",
        "plt.plot(epochs, val_loss_values, \"b\", label=\"Dropout Model Validation loss\")\n",
        "plt.plot(epochs, history_dict[\"val_loss\"], \"g\", label=\"Base Model Validation loss\")\n",
        "plt.axvline(x=5,color='k',linestyle=':')\n",
        "plt.title(\"Validation loss\")\n",
        "plt.xlabel(\"Epochs\")\n",
        "plt.ylabel(\"Loss\")\n",
        "plt.legend()\n",
        "plt.show()"
      ],
      "metadata": {
        "colab": {
          "base_uri": "https://localhost:8080/",
          "height": 295
        },
        "id": "yMYmuA3mShvN",
        "outputId": "55d8971f-7fda-4d0a-fe95-0968bcbbed9d"
      },
      "execution_count": 88,
      "outputs": [
        {
          "output_type": "display_data",
          "data": {
            "image/png": "[encoded data removed]",
            "text/plain": [
              "<Figure size 432x288 with 1 Axes>"
            ]
          },
          "metadata": {
            "needs_background": "light"
          }
        }
      ]
    },
    {
      "cell_type": "code",
      "source": [
        "# Plotting the training and validation accuracy\n",
        "plt.clf()\n",
        "#acc = history_dict_5D[\"accuracy\"]\n",
        "val_acc = history_dict_5D[\"val_accuracy\"]\n",
        "#plt.plot(epochs, acc, \"bo\", label=\"Training acc\")\n",
        "plt.plot(epochs, val_acc, \"b\", label=\"Dropout Model Validation accuracy\")\n",
        "plt.plot(epochs, history_dict[\"val_accuracy\"], \"g\", label=\"Base Model Validation accuracy\")\n",
        "plt.axvline(x=4,color='k',linestyle=':')\n",
        "plt.title(\"Validation accuracy\")\n",
        "plt.xlabel(\"Epochs\")\n",
        "plt.ylabel(\"Accuracy\")\n",
        "plt.legend()\n",
        "plt.show()"
      ],
      "metadata": {
        "colab": {
          "base_uri": "https://localhost:8080/",
          "height": 295
        },
        "id": "Tdbj4dT6ShzU",
        "outputId": "b4876377-c1dc-49fc-deaf-a8a00b2cede6"
      },
      "execution_count": 89,
      "outputs": [
        {
          "output_type": "display_data",
          "data": {
            "image/png": "[encoded data removed]",
            "text/plain": [
              "<Figure size 432x288 with 1 Axes>"
            ]
          },
          "metadata": {
            "needs_background": "light"
          }
        }
      ]
    },
    {
      "cell_type": "markdown",
      "source": [
        "By using dropout, we are introducing random noise in the output values of a layer by dropping out some neurons randomly. This will help in preventing the network from memorising insignificant patterns from certain neurons resulting in preventing overfitting and increasing performance of the network.\n"
      ],
      "metadata": {
        "id": "xdYtyJ-DWoYj"
      }
    }
  ]
}